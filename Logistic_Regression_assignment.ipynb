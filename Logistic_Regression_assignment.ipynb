{
 "cells": [
  {
   "cell_type": "markdown",
   "metadata": {},
   "source": [
    "# Logistic Regression \n",
    "\n",
    "**Assignment** Build a Logistic Regression classifier to recognize cat pictures. \n",
    "\n",
    "**Data Set** \"data.h5\"\n",
    "- Training set of m_train images labeled as (cat; y=1) or (non-cat; y=0)\n",
    "- Test set of m_test images labeled as cat or non-cat\n",
    "- Each image is of shape (num_px, num_px, 3) where 3 is for the 3 channels (RGB). \n",
    "- Thus, each image is square (height = num_px) and (width = num_px).\n",
    "\n",
    "\n",
    "**You want to:**\n",
    "- Build a Logistic Regression learning algorithm:\n",
    "    - Initializing parameters\n",
    "    - Calculating the cost function and its gradient\n",
    "    - Using an optimization algorithm (gradient descent) \n",
    "    \n",
    "- Gather all three functions above into a main model function, in the right order.\n",
    "\n",
    "**Question** What is the general architecture of you learning algorithm? \n",
    "\n",
    "**Equations**:\n",
    "\n",
    "For a single training example $\\underline{x}^{(i)}$:\n",
    "\n",
    "$$z^{(i)} = \\underline{w}^T \\underline{x}^{(i)} + b$$\n",
    "$$\\hat{y}^{(i)} = a^{(i)} = {\\rm{sigmoid}}(z^{(i)})$$\n",
    "$$ \\mathcal{L}(a^{(i)}, y^{(i)}) =  - y^{(i)}  \\log(a^{(i)}) - (1-y^{(i)} )  \\log(1-a^{(i)})$$\n",
    "\n",
    "The cost is then computed by summing over all training examples:\n",
    "$$ J = \\frac{1}{m} \\sum_{i=1}^m \\mathcal{L}(a^{(i)}, y^{(i)})$$\n",
    "\n",
    "**Steps**:\n",
    "    - Preprocessing: Convert training and testing data into vectors \n",
    "    - Initialize the parameters of the model\n",
    "    - Learn the parameters for the model by minimizing the cost  \n",
    "    - Use the learned parameters to make predictions (on the test set)\n",
    "    - Analyse the results and conclude\n",
    "    \n",
    "**Functions**\n",
    "- Sigmoid\n",
    "- Initialization for $\\underline{w}$ and $b$ with the **correct dimensions**\n",
    "- Implement Backpropagation using equations we derived in class. Hint: Need to compute Cost function and its gradients to output $d\\underline{w}$ and $db$\n",
    "- Implement Gradient Descent (Optimization step): Here use a number of iterations 5000 and learning rate 0.005. \n",
    "  You are allowed to use a for loop here to run over iterations.\n",
    "- After learning the parameters using GD; you need to implement a prediction function to out the prediction $\\hat{y}$\n",
    "- Builds the logistic regression model by calling the function you implemented\n",
    "- Use the test data set to test your model (Generalization).\n",
    "- Compute the teaining error (or accuracy) and the testing error (or accuracy)\n",
    "\n",
    "\n"
   ]
  },
  {
   "cell_type": "code",
   "execution_count": 11,
   "metadata": {},
   "outputs": [],
   "source": [
    "import numpy as np\n",
    "import matplotlib.pyplot as plt   # plot graphs\n",
    "import h5py  # common package to interact with a dataset that is stored on an H5 file.\n",
    "\n",
    "\n",
    "from PIL import Image\n",
    "import scipy # use these two if you want to use your own image\n",
    "\n",
    "%matplotlib inline "
   ]
  },
  {
   "cell_type": "code",
   "execution_count": 12,
   "metadata": {},
   "outputs": [],
   "source": [
    "def load_dataset():\n",
    "    train_dataset = h5py.File('datasets/train_catvnoncat.h5', \"r\")\n",
    "    train_set_x_orig = np.array(train_dataset[\"train_set_x\"][:]) # train set features\n",
    "    train_set_y_orig = np.array(train_dataset[\"train_set_y\"][:]) # train set labels\n",
    "\n",
    "    test_dataset = h5py.File('datasets/test_catvnoncat.h5', \"r\")\n",
    "    test_set_x_orig = np.array(test_dataset[\"test_set_x\"][:]) # test set features\n",
    "    test_set_y_orig = np.array(test_dataset[\"test_set_y\"][:]) # test set labels\n",
    "\n",
    "    classes = np.array(test_dataset[\"list_classes\"][:]) # the list of classes\n",
    "    \n",
    "    train_set_y_orig = train_set_y_orig.reshape((1, train_set_y_orig.shape[0])) # convert to row vector\n",
    "    test_set_y_orig = test_set_y_orig.reshape((1, test_set_y_orig.shape[0])) # convert to row vector\n",
    "    \n",
    "    return train_set_x_orig, train_set_y_orig, test_set_x_orig, test_set_y_orig, classes"
   ]
  },
  {
   "cell_type": "code",
   "execution_count": 13,
   "metadata": {},
   "outputs": [],
   "source": [
    "# Loading data\n",
    "train_set_x_orig, train_set_y, test_set_x_orig, test_set_y, classes = load_dataset()"
   ]
  },
  {
   "cell_type": "code",
   "execution_count": 14,
   "metadata": {},
   "outputs": [
    {
     "name": "stdout",
     "output_type": "stream",
     "text": [
      "y = [0], it's a 'non-cat' picture.\n"
     ]
    },
    {
     "data": {
      "image/png": "[encoded data removed]",
      "text/plain": [
       "<Figure size 432x288 with 1 Axes>"
      ]
     },
     "metadata": {
      "needs_background": "light"
     },
     "output_type": "display_data"
    }
   ],
   "source": [
    "# Example\n",
    "index = 16\n",
    "plt.imshow(train_set_x_orig[index])\n",
    "print (\"y = \" + str(train_set_y[:, index]) + \", it's a '\" + classes[np.squeeze(train_set_y[:, index])].decode(\"utf-8\") +  \"' picture.\")"
   ]
  }
 ],
 "metadata": {
  "kernelspec": {
   "display_name": "Python 3",
   "language": "python",
   "name": "python3"
  },
  "language_info": {
   "codemirror_mode": {
    "name": "ipython",
    "version": 3
   },
   "file_extension": ".py",
   "mimetype": "text/x-python",
   "name": "python",
   "nbconvert_exporter": "python",
   "pygments_lexer": "ipython3",
   "version": "3.8.3"
  }
 },
 "nbformat": 4,
 "nbformat_minor": 4
}
